{
 "cells": [
  {
   "cell_type": "code",
   "execution_count": 1,
   "metadata": {},
   "outputs": [
    {
     "name": "stderr",
     "output_type": "stream",
     "text": [
      "\u001b[33m\u001b[1m┌ \u001b[22m\u001b[39m\u001b[33m\u001b[1mWarning: \u001b[22m\u001b[39mbackend `GR` is not installed.\n",
      "\u001b[33m\u001b[1m└ \u001b[22m\u001b[39m\u001b[90m@ Plots ~/.julia/packages/Plots/HyyIK/src/backends.jl:43\u001b[39m\n"
     ]
    }
   ],
   "source": [
    "using Random\n",
    "using LinearAlgebra\n",
    "using Revise\n",
    "using RPCholesky\n",
    "using Plots\n",
    "using Distributions\n",
    "using BenchmarkTools"
   ]
  },
  {
   "cell_type": "code",
   "execution_count": 2,
   "metadata": {},
   "outputs": [],
   "source": [
    "h = 0.8;\n",
    "K(x, y) = exp(-(x - y)^2 / (2 * h^2))\n",
    "\n",
    "N = 10;\n",
    "x_pts = LinRange(0, 5, N);"
   ]
  },
  {
   "cell_type": "code",
   "execution_count": 3,
   "metadata": {},
   "outputs": [],
   "source": [
    "A = [K(x_, y_) for x_ in x_pts, y_ in x_pts];"
   ]
  },
  {
   "cell_type": "code",
   "execution_count": 6,
   "metadata": {},
   "outputs": [],
   "source": [
    "Random.seed!(100)\n",
    "F, S = rpcholesky(A, 2);"
   ]
  },
  {
   "cell_type": "code",
   "execution_count": 7,
   "metadata": {},
   "outputs": [
    {
     "data": {
      "text/plain": [
       "10×2 Matrix{Float64}:\n",
       " 0.785742     -0.200476\n",
       " 1.0           0.0\n",
       " 0.785742      0.525946\n",
       " 0.381171      0.924504\n",
       " 0.114162      0.802838\n",
       " 0.0211097     0.403595\n",
       " 0.00240992    0.122491\n",
       " 0.000169857   0.0227635\n",
       " 7.39135e-6    0.00260366\n",
       " 1.98575e-7    0.000183645"
      ]
     },
     "metadata": {},
     "output_type": "display_data"
    }
   ],
   "source": [
    "F"
   ]
  },
  {
   "cell_type": "code",
   "execution_count": 8,
   "metadata": {},
   "outputs": [
    {
     "data": {
      "text/plain": [
       "rpcholesky2 (generic function with 1 method)"
      ]
     },
     "metadata": {},
     "output_type": "display_data"
    }
   ],
   "source": [
    "function rpcholesky2(A, k; τ=1e-8, verbose=false)\n",
    "    N, _ = size(A)\n",
    "    F = zeros(N, k)\n",
    "    S = Int[]\n",
    "    d = diag(A)\n",
    "    g = zeros(N)\n",
    "    s = 0\n",
    "    trA = tr(A)\n",
    "    for i in 1:k\n",
    "\n",
    "        if (sum(d) > 0)\n",
    "            s = rand(Categorical(d / sum(d)))\n",
    "        else\n",
    "            @warn \"[$(i)]: NOT A PROBABILITY VECTOR\"\n",
    "            F = F[:, 1:i-1]\n",
    "            break\n",
    "        end\n",
    "\n",
    "        if (i == 1)\n",
    "            @. g = A[:, s]\n",
    "        else\n",
    "            g .= A[:, s] - (F[:, 1:i-1] * F[s, 1:i-1])\n",
    "        end\n",
    "\n",
    "        if (g[s] > 0)\n",
    "            F[:, i] .= g / sqrt(g[s])\n",
    "            push!(S, s)\n",
    "        else\n",
    "            @warn \"[$(i)]: NON-POSITIVE PIVOT VALUE\"\n",
    "            F = F[:, 1:i-1]\n",
    "            break\n",
    "        end\n",
    "        @. d -= abs(F[:, i])^2\n",
    "        @. d = max(d, 0)\n",
    "        @show d;\n",
    "\n",
    "        if (sum(d) < τ * trA)\n",
    "            if (verbose)\n",
    "                @warn \"[$(i)]: TOLERANCE SATISFIED\"\n",
    "            end\n",
    "            F = F[:, 1:i]\n",
    "            break\n",
    "        end\n",
    "\n",
    "    end\n",
    "\n",
    "    return F, S\n",
    "\n",
    "end"
   ]
  },
  {
   "cell_type": "code",
   "execution_count": 9,
   "metadata": {},
   "outputs": [
    {
     "name": "stdout",
     "output_type": "stream",
     "text": [
      "d = [0.3826092112340901, 0.0, 0.3826092112340901, 0.8547083744544405, 0.9869670925514906, 0.999554382404408, 0.9999941923071192, 0.9999999711487094, 0.999999999945368, 0.9999999999999606]\n",
      "d = [0.34241869886833987, 0.0, 0.10598960418627995, 0.0, 0.34241869886834, 0.8366657743016316, 0.984990226339434, 0.9994817963745158, 0.9999932208827721, 0.9999999662743252]\n"
     ]
    }
   ],
   "source": [
    "Random.seed!(100)\n",
    "F, S = rpcholesky2(A, 2);"
   ]
  },
  {
   "cell_type": "code",
   "execution_count": 10,
   "metadata": {},
   "outputs": [
    {
     "data": {
      "text/plain": [
       "2-element Vector{Int64}:\n",
       " 2\n",
       " 4"
      ]
     },
     "metadata": {},
     "output_type": "display_data"
    }
   ],
   "source": [
    "S"
   ]
  }
 ],
 "metadata": {
  "kernelspec": {
   "display_name": "Julia 1.10.2",
   "language": "julia",
   "name": "julia-1.10"
  },
  "language_info": {
   "file_extension": ".jl",
   "mimetype": "application/julia",
   "name": "julia",
   "version": "1.10.2"
  }
 },
 "nbformat": 4,
 "nbformat_minor": 2
}
