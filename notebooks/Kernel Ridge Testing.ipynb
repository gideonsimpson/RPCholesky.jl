{
 "cells": [
  {
   "cell_type": "code",
   "execution_count": null,
   "id": "591b1786-54c9-41f0-829a-63b0278833e3",
   "metadata": {},
   "outputs": [],
   "source": [
    "using Random\n",
    "using LinearAlgebra\n",
    "using Revise\n",
    "using RPCholesky\n",
    "using Plots\n",
    "using Distributions\n",
    "using BenchmarkTools"
   ]
  },
  {
   "cell_type": "code",
   "execution_count": null,
   "id": "8295dbbf-bd60-4ade-a309-b7529bec4e4f",
   "metadata": {},
   "outputs": [],
   "source": [
    "xx = LinRange(0,10,1000);\n",
    "f(x) = x * sin(x);\n",
    "yy = f.(xx);\n",
    "plot(xx,yy)"
   ]
  },
  {
   "cell_type": "code",
   "execution_count": null,
   "id": "8d77e0b5-6134-4e15-bd11-7ff40373112b",
   "metadata": {},
   "outputs": [],
   "source": [
    "Random.seed!(100)\n",
    "\n",
    "N = 800;\n",
    "\n",
    "x_pts = rand(Uniform(0,10),N)\n",
    "y_pts = f.(x_pts) ;\n",
    "plot(xx,yy)\n",
    "scatter!(x_pts, y_pts)"
   ]
  },
  {
   "cell_type": "code",
   "execution_count": null,
   "id": "e682bdb4-14d0-4337-9ce9-e6b4ba7acb24",
   "metadata": {},
   "outputs": [],
   "source": [
    "h = 0.1;\n",
    "K(x,y) = exp(-(x-y)^2 / (2*h^2))\n",
    "A = [K(x_,y_) for x_ in x_pts, y_ in x_pts];\n",
    "λ = 1e-8;\n",
    "@btime β = (A'*A + λ*N*A)\\(A'*y_pts);"
   ]
  },
  {
   "cell_type": "code",
   "execution_count": null,
   "id": "958999b3-64da-46cf-88a9-335e07e6c95c",
   "metadata": {},
   "outputs": [],
   "source": [
    "β = (A'*A + λ*N*A)\\(A'*y_pts);\n",
    "f_apx(x) = β ⋅ K.(x_pts,x);"
   ]
  },
  {
   "cell_type": "code",
   "execution_count": null,
   "id": "00590855-5af4-4797-8730-a000c85f978a",
   "metadata": {},
   "outputs": [],
   "source": [
    "plot(xx,yy)\n",
    "scatter!(x_pts, y_pts)\n",
    "plot!(xx, f_apx.(xx))"
   ]
  },
  {
   "cell_type": "code",
   "execution_count": null,
   "id": "90ab21bf-04aa-496b-9dfc-8e63b70827ae",
   "metadata": {},
   "outputs": [],
   "source": [
    "k = 50;\n",
    "@btime β_rpc, S_rpc = ridge_rpcholesky(A, y_pts,k , λ, τ=1e-12);\n",
    "@show size(A);"
   ]
  },
  {
   "cell_type": "code",
   "execution_count": null,
   "id": "6fc04186-1e1a-4cfe-a112-0f806a680855",
   "metadata": {},
   "outputs": [],
   "source": [
    "β_rpc, S_rpc = ridge_rpcholesky(A, y_pts,k , λ, τ=1e-12);\n",
    "f_rpc(x) = β_rpc ⋅ K.(x_pts[S_rpc],x);\n"
   ]
  },
  {
   "cell_type": "code",
   "execution_count": null,
   "id": "c173f0bb-1e0b-4bec-b5de-aacf23fadd71",
   "metadata": {},
   "outputs": [],
   "source": [
    "plot(xx,yy)\n",
    "scatter!(x_pts, y_pts)\n",
    "scatter!(x_pts[S_rpc], y_pts[S_rpc])\n",
    "plot!(xx, f_rpc.(xx))\n"
   ]
  },
  {
   "cell_type": "code",
   "execution_count": null,
   "id": "35cb20ce-cd8e-4bfc-8661-60558b8ef65b",
   "metadata": {},
   "outputs": [],
   "source": []
  }
 ],
 "metadata": {
  "kernelspec": {
   "display_name": "Julia 1.9.2",
   "language": "julia",
   "name": "julia-1.9"
  },
  "language_info": {
   "file_extension": ".jl",
   "mimetype": "application/julia",
   "name": "julia",
   "version": "1.9.2"
  }
 },
 "nbformat": 4,
 "nbformat_minor": 5
}
