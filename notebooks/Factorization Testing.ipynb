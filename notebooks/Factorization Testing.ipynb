{
 "cells": [
  {
   "cell_type": "code",
   "execution_count": null,
   "id": "39462bcd-a505-4483-8fa5-f7819500e05d",
   "metadata": {},
   "outputs": [],
   "source": [
    "using Random\n",
    "using LinearAlgebra\n",
    "using Revise\n",
    "using RPCholesky"
   ]
  },
  {
   "cell_type": "code",
   "execution_count": null,
   "id": "783d57a0-66bb-46ee-8f84-0f46684825d1",
   "metadata": {},
   "outputs": [],
   "source": [
    "h = 0.8;\n",
    "K(x,y) = exp(-(x-y)^2 / (2*h^2))\n",
    "\n",
    "N = 10;\n",
    "x_pts = LinRange(0,5,N);"
   ]
  },
  {
   "cell_type": "code",
   "execution_count": null,
   "id": "b14d9bc0-33c2-40ea-8074-04c3b0718b02",
   "metadata": {},
   "outputs": [],
   "source": [
    "A = [K(x_,y_) for x_ in x_pts, y_ in x_pts];"
   ]
  },
  {
   "cell_type": "code",
   "execution_count": null,
   "id": "2588956f-0147-4347-8e0e-86c08c61776b",
   "metadata": {},
   "outputs": [],
   "source": [
    "@code_warntype F, S = rpcholesky(A,2)"
   ]
  },
  {
   "cell_type": "code",
   "execution_count": null,
   "id": "7786aebf-ba1e-4289-854a-40389e418bf8",
   "metadata": {},
   "outputs": [],
   "source": [
    "Random.seed!(100);\n",
    "for k in 1:N\n",
    "    F, _ = rpcholesky(A,k, τ=0., verbose=false);\n",
    "    @show k;\n",
    "    @show opnorm(A - F*F');\n",
    "end"
   ]
  },
  {
   "cell_type": "code",
   "execution_count": null,
   "id": "9fd1226a-a1e0-4987-9111-ec003d4c3296",
   "metadata": {},
   "outputs": [],
   "source": [
    "Random.seed!(100)\n",
    "F, S = rpcholesky(A,50, τ=0., verbose=false);\n",
    "@show norm(A - F[:,1:end-1]*F[:,1:end-1]', Inf);\n",
    "@show S;\n",
    "@show length(S);"
   ]
  },
  {
   "cell_type": "code",
   "execution_count": null,
   "id": "dcc0027e-c3ad-4db4-96a4-d15242f4edf5",
   "metadata": {},
   "outputs": [],
   "source": []
  }
 ],
 "metadata": {
  "kernelspec": {
   "display_name": "Julia 1.9.2",
   "language": "julia",
   "name": "julia-1.9"
  },
  "language_info": {
   "file_extension": ".jl",
   "mimetype": "application/julia",
   "name": "julia",
   "version": "1.9.2"
  }
 },
 "nbformat": 4,
 "nbformat_minor": 5
}
